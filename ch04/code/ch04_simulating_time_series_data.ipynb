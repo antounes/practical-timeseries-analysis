{
  "nbformat": 4,
  "nbformat_minor": 0,
  "metadata": {
    "colab": {
      "name": "ch04_simulating_time_series_data.ipynb",
      "provenance": [],
      "authorship_tag": "ABX9TyN9pEqJz2wK8MRg2J3LA/Eo",
      "include_colab_link": true
    },
    "kernelspec": {
      "name": "python3",
      "display_name": "Python 3"
    },
    "language_info": {
      "name": "python"
    }
  },
  "cells": [
    {
      "cell_type": "markdown",
      "metadata": {
        "id": "view-in-github",
        "colab_type": "text"
      },
      "source": [
        "<a href=\"https://colab.research.google.com/github/antounes/practical-timeseries-analysis/blob/main/ch04/code/ch04_simulating_time_series_data.ipynb\" target=\"_parent\"><img src=\"https://colab.research.google.com/assets/colab-badge.svg\" alt=\"Open In Colab\"/></a>"
      ]
    },
    {
      "cell_type": "markdown",
      "source": [
        "# Simulating Time Series Data\n",
        "\n",
        "Simulations are a way of verifying posited hypotheses about a phenomenon, looking at what can be happening in the future, or validate a model.\n",
        "This post launches a series of research on time series. I belive that there is still a lot to be discovered in the field of time series. My interests concern mainly forecasting, but I'll also work on analysis and generation of time series data.\n",
        "\n",
        "## Simulations versus forecasting\n",
        "\n",
        "Simulation and forecasting are similar exercises. In both cases you must form hypotheses about underlying system dynamics and parameters, and then extrapolate from these hypotheses to generate data points.\n",
        "\n",
        "Nonetheless, there are important differences to keep in mind when learning about and developing simulations rather than forecasts:\n",
        "- It can be easier to integrate qualitative observations into a simulation than into a forecast\n",
        "- Simulations are run at scale so that you can see many alternative scenarios (thousands or more), whereas forecasts should be more carefully produced\n",
        "- Simulations have lower stakes than forecasts; there are no lives and no resources on the line, so you can be more creative and exploratory in your initial rounds of simulations. Of course, you eventually want to make sure you can justify how you build your simulations, juste as you must justify your forecasts."
      ],
      "metadata": {
        "id": "Go_t6ycT0IoC"
      }
    },
    {
      "cell_type": "markdown",
      "source": [
        "## Membership and donations\n",
        "\n",
        "Simulating a synthetic data set to test our hypotheses about how members of an organisation may (or may not) have correlated behaviour between receptiveness to organisational email and willingness to make donations. This is the most DIY example in that we hardcode relationships and generate tabular data with `for` loops and the like."
      ],
      "metadata": {
        "id": "TMreeFJ50wfG"
      }
    },
    {
      "cell_type": "code",
      "source": [
        "# Membership status\n"
      ],
      "metadata": {
        "id": "idSz-2gC0wse"
      },
      "execution_count": null,
      "outputs": []
    }
  ]
}