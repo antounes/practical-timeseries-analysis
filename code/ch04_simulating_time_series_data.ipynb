{
  "nbformat": 4,
  "nbformat_minor": 0,
  "metadata": {
    "colab": {
      "name": "ch04_simulating_time_series_data.ipynb",
      "provenance": [],
      "collapsed_sections": [],
      "authorship_tag": "ABX9TyNC+LiuGbBrHVggamX5yF/B",
      "include_colab_link": true
    },
    "kernelspec": {
      "name": "python3",
      "display_name": "Python 3"
    },
    "language_info": {
      "name": "python"
    }
  },
  "cells": [
    {
      "cell_type": "markdown",
      "metadata": {
        "id": "view-in-github",
        "colab_type": "text"
      },
      "source": [
        "<a href=\"https://colab.research.google.com/github/antounes/practical-timeseries-analysis/blob/main/code/ch04_simulating_time_series_data.ipynb\" target=\"_parent\"><img src=\"https://colab.research.google.com/assets/colab-badge.svg\" alt=\"Open In Colab\"/></a>"
      ]
    },
    {
      "cell_type": "markdown",
      "source": [
        "# Simulating Time Series Data\n",
        "\n",
        "Simulations are a way of verifying posited hypotheses about a phenomenon, looking at what can be happening in the future, or validate a model.\n",
        "This post launches a series of research on time series. I belive that there is still a lot to be discovered in the field of time series. My interests concern mainly forecasting, but I'll also work on analysis and generation of time series data.\n",
        "\n",
        "## Simulations versus forecasting\n",
        "\n",
        "Simulation and forecasting are similar exercises. In both cases you must form hypotheses about underlying system dynamics and parameters, and then extrapolate from these hypotheses to generate data points.\n",
        "\n",
        "Nonetheless, there are important differences to keep in mind when learning about and developing simulations rather than forecasts:\n",
        "- It can be easier to integrate qualitative observations into a simulation than into a forecast\n",
        "- Simulations are run at scale so that you can see many alternative scenarios (thousands or more), whereas forecasts should be more carefully produced\n",
        "- Simulations have lower stakes than forecasts; there are no lives and no resources on the line, so you can be more creative and exploratory in your initial rounds of simulations. Of course, you eventually want to make sure you can justify how you build your simulations, juste as you must justify your forecasts."
      ],
      "metadata": {
        "id": "Go_t6ycT0IoC"
      }
    },
    {
      "cell_type": "markdown",
      "source": [
        "## Membership and donations\n",
        "\n",
        "Simulating a synthetic data set to test our hypotheses about how members of an organisation may (or may not) have correlated behaviour between receptiveness to organisational email and willingness to make donations. This is the most DIY example in that we hardcode relationships and generate tabular data with `for` loops and the like."
      ],
      "metadata": {
        "id": "TMreeFJ50wfG"
      }
    },
    {
      "cell_type": "code",
      "source": [
        "import numpy as np\n",
        "import pandas as pd\n",
        "import matplotlib.pyplot as plt"
      ],
      "metadata": {
        "id": "F9x2fOPk6NQS"
      },
      "execution_count": 16,
      "outputs": []
    },
    {
      "cell_type": "code",
      "source": [
        "# Membership status\n",
        "\n",
        "years = [str(y) for y in range(2014, 2019)]\n",
        "memberStatus = ['bronze', 'silver', 'gold', 'inactive']\n",
        "\n",
        "memberYears = np.random.choice(years, 1000, p = [0.1, 0.1, 0.15, 0.30, 0.35])\n",
        "memberStats = np.random.choice(memberStatus, 1000, p = [0.5, 0.3, 0.1, 0.1]) # status independent from year joined\n",
        "\n",
        "yearJoined = pd.DataFrame({'yearJoined': memberYears,\n",
        "                           'memberStats': memberStats})"
      ],
      "metadata": {
        "id": "idSz-2gC0wse"
      },
      "execution_count": 2,
      "outputs": []
    },
    {
      "cell_type": "code",
      "source": [
        "NUM_EMAILS_SENT_WEEKLY = 3 # organisation sends 3 emails each week\n",
        "\n",
        "# Define functions for different patterns of member behaviour with respect to email\n",
        "def never_opens(period_rng): # members who never open the emails\n",
        "  return []\n",
        "\n",
        "def constant_open_rate(period_rng): # members who open about the same number of emails each week\n",
        "  n, p = NUM_EMAILS_SENT_WEEKLY, np.random.uniform(0, 1)\n",
        "  num_opened = np.random.binomial(n, p, len(period_rng))\n",
        "  return num_opened\n",
        "\n",
        "def increasing_open_rate(period_rng): # members who open an increasing number of emails each week\n",
        "  return open_rate_with_factor_change(period_rng,\n",
        "                                      np.random.uniform(1.01, 1.3))\n",
        "\n",
        "def decreasing_open_rate(period_rng): # members who open a decreasing number of emails\n",
        "  return open_rate_with_factor_change(period_rng,\n",
        "                                      np.random.uniform(0.5, 0.99))\n",
        "  \n",
        "def open_rate_with_factor_change(period_rng, fac): \n",
        "  if len(period_rng) < 1:\n",
        "    return []\n",
        "  times = np.random.randint(0, len(period_rng), int(0.1*len(period_rng)))\n",
        "  num_opened = np.zeros(len(period_rng))\n",
        "  for prd in range(0, len(period_rng), 2):\n",
        "    try:\n",
        "      n, p = NUM_EMAILS_SENT_WEEKLY, np.random.uniform(0, 1)\n",
        "      num_opened[prd:(prd+2)] = np.random.binomial(n, p, 2)\n",
        "      p = max(min(1, p*fac), 0)\n",
        "    except:\n",
        "      num_opened[prd] = np.random.binomial(n, p, 1)\n",
        "  for t in range(len(times)):\n",
        "    num_opened[times[t]] = 0\n",
        "  return num_opened"
      ],
      "metadata": {
        "id": "ecxlmGDn7IPe"
      },
      "execution_count": 3,
      "outputs": []
    },
    {
      "cell_type": "code",
      "source": [
        "# Donation behaviour\n",
        "def produce_donations(period_rng, member_behavior, num_emails, use_id, member_join_year):\n",
        "  donation_amounts = np.array([0, 25, 50, 75, 100, 250, 500, \n",
        "                               1000, 1500, 2000])\n",
        "  member_has = np.random.choice(donation_amounts)\n",
        "  email_fraction = num_emails / (NUM_EMAILS_SENT_WEEKLY * len(period_rng))\n",
        "  member_gives = member_has * email_fraction\n",
        "  member_gives_idx = np.where(\n",
        "      member_gives>=donation_amounts)[0][-1]\n",
        "  member_gives_idx = max(\n",
        "      min(member_gives_idx, len(donation_amounts)-2),\n",
        "      1)\n",
        "  num_times_gave = np.random.poisson(2) * (2018 - member_join_year)\n",
        "  times = np.random.randint(0, len(period_rng), num_times_gave)\n",
        "  dons = pd.DataFrame({\n",
        "      'member': [],\n",
        "      'amount': [],\n",
        "      'timestamp': []\n",
        "  })\n",
        "\n",
        "  for n in range(num_times_gave):\n",
        "    donation = donation_amounts[member_gives_idx+np.random.binomial(1, .3)]\n",
        "    ts = str(period_rng[times[n]].start_time + random_weekly_time_delta())\n",
        "    dons = dons.append(pd.DataFrame({\n",
        "        'member': [use_id],\n",
        "        'amount': [donation],\n",
        "        'timestamp': [ts]}))\n",
        "    \n",
        "  if dons.shape[0] > 0:\n",
        "    dons = dons[dons.amount!=0]\n",
        "\n",
        "  return dons"
      ],
      "metadata": {
        "id": "Q3_YUiSXs2M2"
      },
      "execution_count": 4,
      "outputs": []
    },
    {
      "cell_type": "code",
      "source": [
        "# Utility function to pick a random time during the week\n",
        "def random_weekly_time_delta():\n",
        "  days_of_week = [d for d in range(7)]\n",
        "  hours_of_day = [h for h in range(11, 23)]\n",
        "  minute_of_hour = [m for m in range(60)]\n",
        "  second_of_minute = [s for s in range(60)]\n",
        "\n",
        "  return pd.Timedelta(str(np.random.choice(days_of_week))+' days') \n",
        "  + pd.Timedelta(str(np.random.choice(hours_of_day)+' hours')) \n",
        "  + pd.Timedelta(str(np.random.choice(minute_of_hour))+' minutes') \n",
        "  + pd.Timedelta(str(np.random.choice(second_of_minute))+' seconds')"
      ],
      "metadata": {
        "id": "qKqLRRjo1G1A"
      },
      "execution_count": 7,
      "outputs": []
    },
    {
      "cell_type": "code",
      "source": [
        "# Simulate a certain number of members and associated events\n",
        "behaviors = [never_opens, constant_open_rate, increasing_open_rate, decreasing_open_rate]\n",
        "member_behaviors = np.random.choice(behaviors, 1000, [0.2, 0.5, 0.1, 0.2])\n",
        "\n",
        "rng = pd.period_range('2015-02-14', '2018-06-01', freq='W')\n",
        "emails = pd.DataFrame({'member': [],\n",
        "                       'week': [],\n",
        "                       'emailsOpened': []})\n",
        "donations = pd.DataFrame({'member': [],\n",
        "                          'amount': [],\n",
        "                          'timestamp': []})\n",
        "\n",
        "for idx in range(yearJoined.shape[0]):\n",
        "  # randomly generate the date when a member would have joined\n",
        "  join_date = pd.Timestamp(yearJoined.iloc[idx]['yearJoined']) + pd.Timedelta(str(np.random.randint(0, 365))+' days')\n",
        "  join_date = min(join_date, pd.Timestamp('2018-06-01'))\n",
        "\n",
        "  # member should not have action timestamps befoire joining\n",
        "  member_rng = rng[rng.start_time>join_date]\n",
        "\n",
        "  if len(member_rng) <  1:\n",
        "    continue\n",
        "  \n",
        "  info = member_behaviors[idx](member_rng)\n",
        "  if len(info) == len(member_rng):\n",
        "    emails = emails.append(pd.DataFrame(\n",
        "        {'member': [idx]*len(info),\n",
        "         'week': [str(r.start_time) for r in member_rng],\n",
        "         'emailsOpened': info}))\n",
        "    donations = donations.append(\n",
        "        produce_donations(member_rng, member_behaviors[idx], sum(info), idx, join_date.year))"
      ],
      "metadata": {
        "id": "BGR8XIKu2QuT"
      },
      "execution_count": 12,
      "outputs": []
    },
    {
      "cell_type": "code",
      "source": [
        "# Plot the total amount of donations received for each month of the data set\n",
        "plt.figure(figsize=(10, 6))\n",
        "\n",
        "donations.set_index(pd.to_datetime(donations['timestamp']), inplace=True)\n",
        "donations.sort_index(inplace=True)\n",
        "plt.xlabel('Date');\n",
        "plt.ylabel('Donation amount');\n",
        "plt.title('Monthly donation amount')\n",
        "donations.groupby(pd.Grouper(freq='M'))['amount'].sum().plot();"
      ],
      "metadata": {
        "colab": {
          "base_uri": "https://localhost:8080/",
          "height": 416
        },
        "id": "mOJVnsjc5PY5",
        "outputId": "37a65fd2-b932-49de-aa88-d62a15d15948"
      },
      "execution_count": 21,
      "outputs": [
        {
          "output_type": "display_data",
          "data": {
            "image/png": "[encoded data removed]",
            "text/plain": [
              "<Figure size 720x432 with 1 Axes>"
            ]
          },
          "metadata": {
            "needs_background": "light"
          }
        }
      ]
    },
    {
      "cell_type": "code",
      "source": [
        ""
      ],
      "metadata": {
        "id": "OoUneTIK66R1"
      },
      "execution_count": null,
      "outputs": []
    }
  ]
}